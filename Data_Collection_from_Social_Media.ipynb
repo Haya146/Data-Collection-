{
  "nbformat": 4,
  "nbformat_minor": 0,
  "metadata": {
    "colab": {
      "provenance": [],
      "authorship_tag": "ABX9TyMevJyjB7d6pIJYAp68YoZQ",
      "include_colab_link": true
    },
    "kernelspec": {
      "name": "python3",
      "display_name": "Python 3"
    },
    "language_info": {
      "name": "python"
    }
  },
  "cells": [
    {
      "cell_type": "markdown",
      "metadata": {
        "id": "view-in-github",
        "colab_type": "text"
      },
      "source": [
        "<a href=\"https://colab.research.google.com/github/Haya146/Data-Collection-/blob/main/Data_Collection_from_Social_Media.ipynb\" target=\"_parent\"><img src=\"https://colab.research.google.com/assets/colab-badge.svg\" alt=\"Open In Colab\"/></a>"
      ]
    },
    {
      "cell_type": "markdown",
      "source": [
        "# Data collection from social media\n",
        "\n",
        "- Social media platforms like facebook and Twitter provide APIs to collect public data, such as posts, like , comments, which can be used for sentiment analysis, trend analysis , etc.     \n",
        "\n",
        "- **Example:** Collect tweets using the Twitter API .   \n",
        "\n",
        "-  This code fatches the latest 10 tweets containing the keyword 'data science' using the twitter API"
      ],
      "metadata": {
        "id": "5EsVUL1WnT3B"
      }
    },
    {
      "cell_type": "code",
      "execution_count": 5,
      "metadata": {
        "id": "KcUtAEWOmwAj"
      },
      "outputs": [],
      "source": [
        "import tweepy"
      ]
    },
    {
      "cell_type": "code",
      "source": [
        "# Autheniciation credintials\n",
        "api_key = \"your_api_key\"\n",
        "api_secret = \"your_api_secret\"\n",
        "access_token = \"your_access_token\"\n",
        "access_token_secret = \"your_access_token_secret\""
      ],
      "metadata": {
        "id": "COPZ1G2tqNmA"
      },
      "execution_count": 6,
      "outputs": []
    },
    {
      "cell_type": "code",
      "source": [
        "# Autheniciate and connect to Twitter API\n",
        "auth = tweepy.OAuthHandler(api_key, api_secret)\n",
        "auth.set_access_token(access_token, access_token_secret)\n",
        "api = tweepy.API(auth)\n",
        "#"
      ],
      "metadata": {
        "id": "7hG1chtUoSKO"
      },
      "execution_count": 7,
      "outputs": []
    },
    {
      "cell_type": "code",
      "source": [
        "# Get tweets containing a specific keyword\n",
        "keyword = \"data science\"\n",
        "tweets = api.search_twets(q=keyword, count=10)\n",
        "for tweet in tweets:\n",
        "    print(tweet.text)"
      ],
      "metadata": {
        "id": "ZOeF8QOfqvke"
      },
      "execution_count": null,
      "outputs": []
    },
    {
      "cell_type": "code",
      "source": [],
      "metadata": {
        "id": "WkfqpRi8q63W"
      },
      "execution_count": null,
      "outputs": []
    }
  ]
}